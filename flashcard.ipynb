{
 "cells": [
  {
   "cell_type": "code",
   "execution_count": 5,
   "id": "e941a8b2",
   "metadata": {},
   "outputs": [],
   "source": [
    "import pandas as pd\n",
    "import random\n",
    "\n",
    "# Load the Excel file\n",
    "file_path = 'new_word.xlsx'\n",
    "flashcards_df = pd.read_excel(file_path)"
   ]
  },
  {
   "cell_type": "code",
   "execution_count": 6,
   "id": "b9cf09e7",
   "metadata": {},
   "outputs": [],
   "source": [
    "# Convert the data into a list of dictionaries for easier handling\n",
    "flashcards = flashcards_df.to_dict(orient='records')"
   ]
  },
  {
   "cell_type": "code",
   "execution_count": 7,
   "id": "68847a0f",
   "metadata": {},
   "outputs": [],
   "source": [
    "# Pick a random flashcard for display\n",
    "card = random.choice(flashcards)"
   ]
  },
  {
   "cell_type": "code",
   "execution_count": 8,
   "id": "cd07a43e",
   "metadata": {},
   "outputs": [
    {
     "name": "stdout",
     "output_type": "stream",
     "text": [
      "Word: Address\n",
      "Pronounce: nan\n",
      "Kind of word: v\n",
      "Meaning: To deal with a problem or issue\n",
      "Common collocation: Address the issue/problem\n",
      "Synonym: Tackle, deal with, handle, fixed\n",
      "Example: The teacher addressed the issue of bullying the classroom\n"
     ]
    }
   ],
   "source": [
    "# Display the flashcard\n",
    "print(f\"Word: {card['Word']}\")\n",
    "print(f\"Pronounce: {card['Pronounce']}\")\n",
    "print(f\"Kind of word: {card['Kind of word']}\")\n",
    "print(f\"Meaning: {card['Meaning']}\")\n",
    "print(f\"Common collocation: {card['common collocation']}\")\n",
    "print(f\"Synonym: {card['Synonym']}\")\n",
    "print(f\"Example: {card['Example']}\")"
   ]
  },
  {
   "cell_type": "code",
   "execution_count": null,
   "id": "b88540bd",
   "metadata": {},
   "outputs": [],
   "source": []
  },
  {
   "cell_type": "code",
   "execution_count": null,
   "id": "dc606663",
   "metadata": {},
   "outputs": [],
   "source": []
  }
 ],
 "metadata": {
  "kernelspec": {
   "display_name": "Python 3 (ipykernel)",
   "language": "python",
   "name": "python3"
  },
  "language_info": {
   "codemirror_mode": {
    "name": "ipython",
    "version": 3
   },
   "file_extension": ".py",
   "mimetype": "text/x-python",
   "name": "python",
   "nbconvert_exporter": "python",
   "pygments_lexer": "ipython3",
   "version": "3.8.10"
  }
 },
 "nbformat": 4,
 "nbformat_minor": 5
}
